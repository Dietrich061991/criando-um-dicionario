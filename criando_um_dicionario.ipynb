{
  "nbformat": 4,
  "nbformat_minor": 0,
  "metadata": {
    "colab": {
      "name": "criando_um_dicionario",
      "provenance": [],
      "collapsed_sections": []
    },
    "kernelspec": {
      "name": "python3",
      "display_name": "Python 3"
    }
  },
  "cells": [
    {
      "cell_type": "markdown",
      "metadata": {
        "id": "6xfpXVKrQ4EK",
        "colab_type": "text"
      },
      "source": [
        "Vamos aprender a criar um dicíonario com pandas para amazenar as notas dos alunos 'Maria','Jose', 'Witoria'. \n"
      ]
    },
    {
      "cell_type": "code",
      "metadata": {
        "id": "9Z_DJmcvXOL9",
        "colab_type": "code",
        "colab": {}
      },
      "source": [
        "# Criando um dicionário onde cada chave será uma coluna do DataFrame\n",
        "dicionario = {\n",
        "'Alunos':    ['Maria', 'Jose', 'Witoria'],\n",
        "'Historia':  [8, 9 ,10],\n",
        "'Geografia': [10, 9, 7]\n",
        "}"
      ],
      "execution_count": null,
      "outputs": []
    },
    {
      "cell_type": "code",
      "metadata": {
        "id": "rXKuoM_vYAvK",
        "colab_type": "code",
        "colab": {
          "base_uri": "https://localhost:8080/",
          "height": 34
        },
        "outputId": "55a0a13a-1de5-41c2-fee8-dbad01612ec5"
      },
      "source": [
        "print(dicionario)"
      ],
      "execution_count": null,
      "outputs": [
        {
          "output_type": "stream",
          "text": [
            "{'Alunos': ['Maria', 'Jose', 'Witoria'], 'Historia': [8, 9, 10], 'Geografia': [10, 9, 7]}\n"
          ],
          "name": "stdout"
        }
      ]
    },
    {
      "cell_type": "markdown",
      "metadata": {
        "id": "F9XeRKLmZGu1",
        "colab_type": "text"
      },
      "source": [
        "**Acabamos de criar um dicíonario** "
      ]
    }
  ]
}